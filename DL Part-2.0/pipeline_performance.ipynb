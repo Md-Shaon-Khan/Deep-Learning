{
 "cells": [
  {
   "cell_type": "code",
   "execution_count": 25,
   "id": "5eccf2ab",
   "metadata": {},
   "outputs": [],
   "source": [
    "import tensorflow as tf\n",
    "import time"
   ]
  },
  {
   "cell_type": "code",
   "execution_count": 26,
   "id": "fe5cf8e0",
   "metadata": {},
   "outputs": [],
   "source": [
    "def FileDataset(num_samples=3):\n",
    "    def read_file_in_batches():\n",
    "        time.sleep(0.03)\n",
    "        for sample_idx in range(num_samples):\n",
    "            time.sleep(0.015)\n",
    "            yield (sample_idx,)\n",
    "    return tf.data.Dataset.from_generator(\n",
    "        read_file_in_batches,\n",
    "        output_signature=tf.TensorSpec(shape=(1,), dtype=tf.int64)\n",
    "    )\n",
    "    \n",
    "def benchmark(dataset, num_epochs=2):\n",
    "    for epoch_num in range(num_epochs):\n",
    "        for sample in dataset:\n",
    "            time.sleep(0.01)"
   ]
  },
  {
   "cell_type": "code",
   "execution_count": 29,
   "id": "dfe3bb77",
   "metadata": {},
   "outputs": [
    {
     "name": "stdout",
     "output_type": "stream",
     "text": [
      "No prefetch: 0.23748469352722168 seconds\n",
      "Prefetch(1): 0.23560810089111328 seconds\n",
      "Prefetch(AUTOTUNE): 0.2299344539642334 seconds\n"
     ]
    },
    {
     "data": {
      "text/plain": [
       "[np.int64(0), np.int64(1), np.int64(4), np.int64(9), np.int64(16)]"
      ]
     },
     "execution_count": 29,
     "metadata": {},
     "output_type": "execute_result"
    }
   ],
   "source": [
    "start = time.time()\n",
    "benchmark(FileDataset())\n",
    "end = time.time()\n",
    "print(\"No prefetch:\", end - start, \"seconds\")\n",
    "\n",
    "start = time.time()\n",
    "benchmark(FileDataset().prefetch(1))\n",
    "end = time.time()\n",
    "print(\"Prefetch(1):\", end - start, \"seconds\")\n",
    "\n",
    "start = time.time()\n",
    "benchmark(FileDataset().prefetch(tf.data.AUTOTUNE))\n",
    "end = time.time()\n",
    "print(\"Prefetch(AUTOTUNE):\", end - start, \"seconds\")\n",
    "\n",
    "\n",
    "dataset = tf.data.Dataset.range(5)\n",
    "dataset = dataset.map(lambda x: x**2)\n",
    "dataset = dataset.cache(\"mycache.txt\")\n",
    "list(dataset.as_numpy_iterator())\n",
    "list(dataset.as_numpy_iterator())"
   ]
  },
  {
   "cell_type": "code",
   "execution_count": null,
   "id": "9e1cc7b9",
   "metadata": {},
   "outputs": [
    {
     "name": "stderr",
     "output_type": "stream",
     "text": [
      "UsageError: Line magic function `%%timeit` not found.\n"
     ]
    }
   ],
   "source": [
    "def mapped_function(s):\n",
    "    tf.py_function(lambda: time.sleep(0.03), [], ())\n",
    "    return s\n",
    "\n",
    "%%timeit -r1 -n1\n",
    "benchmark(FileDataset().map(mapped_function), 5)\n",
    "\n",
    "%%timeit -r1 -n1\n",
    "benchmark(FileDataset().map(mapped_function).cache(), 5)"
   ]
  }
 ],
 "metadata": {
  "kernelspec": {
   "display_name": "Python 3",
   "language": "python",
   "name": "python3"
  },
  "language_info": {
   "codemirror_mode": {
    "name": "ipython",
    "version": 3
   },
   "file_extension": ".py",
   "mimetype": "text/x-python",
   "name": "python",
   "nbconvert_exporter": "python",
   "pygments_lexer": "ipython3",
   "version": "3.12.10"
  }
 },
 "nbformat": 4,
 "nbformat_minor": 5
}
